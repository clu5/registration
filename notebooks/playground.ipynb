{
 "cells": [
  {
   "cell_type": "markdown",
   "id": "44eaa656-84cf-4f27-a6f1-3a49b642925e",
   "metadata": {},
   "source": [
    "### VoxelMorph playground\n",
    "\n",
    "**datasets**\n",
    "* [mnist](https://pytorch.org/vision/stable/datasets.html)\n",
    "* [fashionmnist](https://pytorch.org/vision/stable/datasets.html)\n",
    "* [omniglot](https://pytorch.org/vision/stable/datasets.html)\n",
    "* [morphomnist](https://github.com/dccastro/Morpho-MNIST)\n",
    "* [caltech 101 silhouettes](https://people.cs.umass.edu/~marlin/data.shtml)"
   ]
  },
  {
   "cell_type": "code",
   "execution_count": 24,
   "id": "7c6cb81a-2d6a-4675-b7d8-b9b848d4d2bf",
   "metadata": {},
   "outputs": [
    {
     "name": "stdout",
     "output_type": "stream",
     "text": [
      "numpy 1.21.2\n",
      "torch 1.11.0\n",
      "3.8.12 (default, Oct 12 2021, 13:49:34) \n",
      "[GCC 7.5.0]\n"
     ]
    }
   ],
   "source": [
    "from __future__ import annotations\n",
    "import voxelmorph as vm\n",
    "import numpy as np\n",
    "import torch\n",
    "import torchvision\n",
    "import matplotlib.pyplot as plt\n",
    "from pathlib import Path\n",
    "import sys\n",
    "import random\n",
    "print('numpy', np.__version__)\n",
    "print('torch', torch.__version__)\n",
    "print(sys.version)"
   ]
  },
  {
   "cell_type": "code",
   "execution_count": 2,
   "id": "052391d1-6445-4623-899c-3f9aa311d0f8",
   "metadata": {},
   "outputs": [],
   "source": [
    "data_dir = Path('datasets')\n",
    "data_dir.mkdir(exist_ok=True)"
   ]
  },
  {
   "cell_type": "markdown",
   "id": "651cef30-3296-4ddc-adaa-dc2ddd966120",
   "metadata": {},
   "source": [
    "### Mnist"
   ]
  },
  {
   "cell_type": "code",
   "execution_count": 40,
   "id": "e8ab396f-76c9-46c3-b780-53ae8fdd76c6",
   "metadata": {},
   "outputs": [],
   "source": [
    "mnist_dir = data_dir / 'mnist'\n",
    "mnist_dir.mkdir(exist_ok=True)\n",
    "mnist = torchvision.datasets.MNIST(root=mnist_dir, download=True)"
   ]
  },
  {
   "cell_type": "markdown",
   "id": "45e082c1-2525-445a-a795-fca747cd4619",
   "metadata": {},
   "source": [
    "### Fashionmnist"
   ]
  },
  {
   "cell_type": "code",
   "execution_count": 38,
   "id": "897474af-3dd3-4cdc-8fb2-770cd159a84c",
   "metadata": {},
   "outputs": [],
   "source": [
    "fashionmnist_dir = data_dir / 'fashionmnist'\n",
    "fashionmnist_dir.mkdir(exist_ok=True)\n",
    "fashionmnist = torchvision.datasets.FashionMNIST(root=fashionmnist_dir, download=True)"
   ]
  },
  {
   "cell_type": "markdown",
   "id": "8beb3b98-ba11-4fed-91a9-5869909cadd4",
   "metadata": {},
   "source": [
    "### Omniglot"
   ]
  },
  {
   "cell_type": "code",
   "execution_count": 39,
   "id": "e53f8012-2eb9-4742-adaa-de91b5ba43f6",
   "metadata": {},
   "outputs": [
    {
     "name": "stdout",
     "output_type": "stream",
     "text": [
      "Files already downloaded and verified\n"
     ]
    }
   ],
   "source": [
    "omniglot_dir = data_dir / 'omniglot'\n",
    "omniglot_dir.mkdir(exist_ok=True)\n",
    "omniglot = torchvision.datasets.Omniglot(root=omniglot_dir, download=True)"
   ]
  },
  {
   "cell_type": "markdown",
   "id": "2686201e-1ddf-435a-8fbf-f3a2f6a10531",
   "metadata": {},
   "source": [
    "### partition by class"
   ]
  },
  {
   "cell_type": "code",
   "execution_count": 112,
   "id": "ead8ba69-1997-4cae-acb9-1bde8a1e793d",
   "metadata": {},
   "outputs": [],
   "source": [
    "def filter_by_class(data, labels, class_to_keep: int = 0):\n",
    "    indexer = labels == class_to_keep\n",
    "    filtered_data = data[indexer]\n",
    "    filtered_labels = labels[indexer]\n",
    "    return filtered_data, filtered_labels\n",
    "\n",
    "def partition_by_class(data, labels, classes):\n",
    "    class_partitions = {}\n",
    "    for k in classes:\n",
    "        class_partitions[k] = filter_by_class(data, labels, k)\n",
    "    return class_partitions\n",
    "       "
   ]
  },
  {
   "cell_type": "code",
   "execution_count": 119,
   "id": "fdbc5617-b94b-40ce-911f-770bb88c94f6",
   "metadata": {},
   "outputs": [],
   "source": [
    "mnist_data = mnist.data.numpy()\n",
    "mnist_labels = mnist.targets.numpy()\n",
    "mnist_classes = np.unique(mnist_labels)\n",
    "mnist_partitions = partition_by_class(mnist_data, mnist_labels, mnist_classes)"
   ]
  },
  {
   "cell_type": "code",
   "execution_count": 128,
   "id": "99f5f9fa-229c-41a4-9b6e-36a4aa87afc0",
   "metadata": {},
   "outputs": [],
   "source": [
    "fashionmnist_data = fashionmnist.data.numpy()\n",
    "fashionmnist_labels = fashionmnist.targets.numpy()\n",
    "fashionmnist_classes = np.unique(fashionmnist_labels)\n",
    "fashionmnist_partitions = partition_by_class(fashionmnist_data, fashionmnist_labels, fashionmnist_classes)"
   ]
  },
  {
   "cell_type": "markdown",
   "id": "a727996a-6924-4345-b944-8ed16aac283f",
   "metadata": {},
   "source": [
    "### split data"
   ]
  },
  {
   "cell_type": "code",
   "execution_count": 127,
   "id": "c0a53c0b-e854-4e70-876e-22f5065d4cbe",
   "metadata": {},
   "outputs": [],
   "source": [
    "def get_data_split(data, labels, val_split=0.1, test_split=0.2):\n",
    "    data = np.asarray(data)\n",
    "    labels = np.asarray(labels)\n",
    "    n = data.shape[0]\n",
    "    assert n == labels.shape[0]\n",
    "    index = list(range(n))\n",
    "    random.shuffle(index)\n",
    "    num_test = round(test_split * n)\n",
    "    num_dev = n - num_test\n",
    "    num_val = round(num_dev * val_split)\n",
    "    num_train = num_dev - num_val\n",
    "    train_index = index[:num_train]\n",
    "    val_index = index[num_train:num_train+num_val]\n",
    "    test_index = index[-num_test:]\n",
    "    return {\n",
    "        'train_data': data[train_index],\n",
    "        'train_labels': labels[train_index],\n",
    "        'val_data': data[val_index],\n",
    "        'val_labels': labels[val_index],\n",
    "        'test_data': data[test_index],\n",
    "        'test_labels': labels[test_index],\n",
    "    }"
   ]
  },
  {
   "cell_type": "code",
   "execution_count": 129,
   "id": "2c24afd9-4150-4d6a-8424-61c9aa6a892b",
   "metadata": {},
   "outputs": [],
   "source": [
    "five_data = mnist_partitions[5]\n",
    "five_split = get_data_split(*five_data)"
   ]
  },
  {
   "cell_type": "code",
   "execution_count": 131,
   "id": "78174ebb-8056-4c20-bdd4-8a3531852687",
   "metadata": {},
   "outputs": [],
   "source": [
    "sneaker_data = fashionmnist_partitions[7]\n",
    "sneaker_split = get_data_split(*sneaker_data)"
   ]
  },
  {
   "cell_type": "markdown",
   "id": "81da6843-ea0e-4b7e-b4f0-043d1fd896a9",
   "metadata": {},
   "source": [
    "### dataset class"
   ]
  },
  {
   "cell_type": "code",
   "execution_count": 132,
   "id": "42c8e689-cf52-4d6d-a616-10a07deaf530",
   "metadata": {},
   "outputs": [],
   "source": [
    "class Dataset(torch.utils.data.Dataset):\n",
    "    def __init__(\n",
    "        self, \n",
    "        data: np.ndarray, \n",
    "        labels: np.ndarray, \n",
    "        normalize: bool = True,\n",
    "        pad: None | tuple[int, int] = (32, 32), \n",
    "        transforms: None | list[torchvision.transforms] = [\n",
    "            # torchvision.transforms.Pad((32, 32), fill=0),\n",
    "            torchvision.transforms.ToTensor(),\n",
    "        ],\n",
    "    ):\n",
    "        self.data = data\n",
    "        self.labels = labels\n",
    "        self.normalize = normalize\n",
    "        self.pad = pad\n",
    "        self.transforms = torchvision.transforms.Compose(transforms)\n",
    "\n",
    "    def __len__(self):\n",
    "        return self.data.shape[0]\n",
    "\n",
    "    def __getitem__(self, index):\n",
    "        image = self.data[index]\n",
    "        label = self.labels[index]\n",
    "        if self.transforms:\n",
    "            image = self.transforms(image)\n",
    "        if self.pad:\n",
    "            # only handles case when pad > size\n",
    "            w, h = image.squeeze().shape\n",
    "            assert self.pad[0] >= w, 'width padding too small'\n",
    "            assert self.pad[1] >= h, 'height padding too small'\n",
    "            w_diff = self.pad[0] - w\n",
    "            h_diff = self.pad[1] - h\n",
    "            w_pad = w_diff // 2\n",
    "            h_pad = h_diff // 2\n",
    "            padding = w_pad, w_diff - w_pad, h_pad, h_diff - h_pad\n",
    "            image = torch.nn.functional.pad(image, padding, 'constant', 0)\n",
    "        return image, label\n",
    "    \n",
    "    def normalize(self, arr):\n",
    "        pass"
   ]
  },
  {
   "cell_type": "code",
   "execution_count": 135,
   "id": "72f140e9-5a36-4380-bd3e-422f6bf6e3b8",
   "metadata": {},
   "outputs": [
    {
     "data": {
      "text/plain": [
       "<matplotlib.image.AxesImage at 0x7fe8a033ecd0>"
      ]
     },
     "execution_count": 135,
     "metadata": {},
     "output_type": "execute_result"
    },
    {
     "data": {
      "image/png": "[encoded data removed]",
      "text/plain": [
       "<Figure size 432x288 with 1 Axes>"
      ]
     },
     "metadata": {
      "needs_background": "light"
     },
     "output_type": "display_data"
    }
   ],
   "source": [
    "five_train_dataset = Dataset(five_split['train_data'], five_split['train_labels'])\n",
    "five_val_dataset = Dataset(five_split['val_data'], five_split['val_labels'])\n",
    "five_test_dataset = Dataset(five_split['test_data'], five_split['test_labels'])\n",
    "plt.imshow(five_train_dataset[0][0][0])"
   ]
  },
  {
   "cell_type": "code",
   "execution_count": 136,
   "id": "f6775346-9ab1-4ed6-9fa0-2209d1ee8f10",
   "metadata": {},
   "outputs": [
    {
     "data": {
      "text/plain": [
       "<matplotlib.image.AxesImage at 0x7fe8a031c160>"
      ]
     },
     "execution_count": 136,
     "metadata": {},
     "output_type": "execute_result"
    },
    {
     "data": {
      "image/png": "[encoded data removed]",
      "text/plain": [
       "<Figure size 432x288 with 1 Axes>"
      ]
     },
     "metadata": {
      "needs_background": "light"
     },
     "output_type": "display_data"
    }
   ],
   "source": [
    "sneaker_train_dataset = Dataset(sneaker_split['train_data'], sneaker_split['train_labels'])\n",
    "sneaker_val_dataset = Dataset(sneaker_split['val_data'], sneaker_split['val_labels'])\n",
    "sneaker_test_dataset = Dataset(sneaker_split['test_data'], sneaker_split['test_labels'])\n",
    "plt.imshow(sneaker_train_dataset[0][0][0])"
   ]
  },
  {
   "cell_type": "markdown",
   "id": "6dd96cae-ed0b-47eb-b1fc-20d3f79751c8",
   "metadata": {},
   "source": [
    "### voxelmorph model"
   ]
  },
  {
   "cell_type": "code",
   "execution_count": null,
   "id": "eed95c51-82f1-4dc8-887b-0bfc42216b60",
   "metadata": {},
   "outputs": [],
   "source": []
  },
  {
   "cell_type": "code",
   "execution_count": null,
   "id": "32d72618-fb10-43b0-bf19-a8d4ef33b797",
   "metadata": {},
   "outputs": [],
   "source": []
  },
  {
   "cell_type": "code",
   "execution_count": null,
   "id": "8f1948c4-43da-4c75-9656-e51651080259",
   "metadata": {},
   "outputs": [],
   "source": []
  },
  {
   "cell_type": "code",
   "execution_count": null,
   "id": "751cdbe3-e1e9-42da-9950-e0ef45b9d56a",
   "metadata": {},
   "outputs": [],
   "source": []
  },
  {
   "cell_type": "code",
   "execution_count": null,
   "id": "0937846a-8de4-4a97-a60b-f6fe82566e39",
   "metadata": {},
   "outputs": [],
   "source": []
  }
 ],
 "metadata": {
  "kernelspec": {
   "display_name": "Python 3 (ipykernel)",
   "language": "python",
   "name": "python3"
  },
  "language_info": {
   "codemirror_mode": {
    "name": "ipython",
    "version": 3
   },
   "file_extension": ".py",
   "mimetype": "text/x-python",
   "name": "python",
   "nbconvert_exporter": "python",
   "pygments_lexer": "ipython3",
   "version": "3.8.12"
  }
 },
 "nbformat": 4,
 "nbformat_minor": 5
}
