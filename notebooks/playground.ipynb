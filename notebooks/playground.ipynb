{
 "cells": [
  {
   "cell_type": "markdown",
   "id": "44eaa656-84cf-4f27-a6f1-3a49b642925e",
   "metadata": {},
   "source": [
    "# VoxelMorph\n",
    "\n",
    "A playground to have fun in"
   ]
  },
  {
   "cell_type": "code",
   "execution_count": 42,
   "id": "7c6cb81a-2d6a-4675-b7d8-b9b848d4d2bf",
   "metadata": {},
   "outputs": [
    {
     "name": "stdout",
     "output_type": "stream",
     "text": [
      "3.8.12 (default, Oct 12 2021, 13:49:34) \n",
      "[GCC 7.5.0]\n",
      "numpy version 1.21.2\n",
      "torch version 1.11.0\n",
      "voxelmorph using pytorch backend\n"
     ]
    }
   ],
   "source": [
    "from __future__ import annotations\n",
    "from collections import defaultdict\n",
    "from importlib import reload\n",
    "import matplotlib.pyplot as plt\n",
    "import neurite as ne\n",
    "import numpy as np\n",
    "import os; os.environ['VXM_BACKEND'] = 'pytorch'\n",
    "from pathlib import Path\n",
    "import sys\n",
    "from time import perf_counter\n",
    "import torch\n",
    "import torchvision\n",
    "from tqdm import tqdm \n",
    "import random\n",
    "import voxelmorph as vm\n",
    "print(sys.version)\n",
    "print('numpy version', np.__version__)\n",
    "print('torch version', torch.__version__)\n",
    "print(f'voxelmorph using {vm.py.utils.get_backend()} backend')"
   ]
  },
  {
   "cell_type": "markdown",
   "id": "b4eba4b0-6dca-4bb2-9293-f9bd8af4d4da",
   "metadata": {
    "tags": []
   },
   "source": [
    "## datasets\n",
    "\n",
    "* [mnist](https://pytorch.org/vision/stable/datasets.html)\n",
    "* [fashionmnist](https://pytorch.org/vision/stable/datasets.html)\n",
    "* [omniglot](https://pytorch.org/vision/stable/datasets.html)\n",
    "* [morphomnist](https://github.com/dccastro/Morpho-MNIST)\n",
    "* [caltech 101 silhouettes](https://people.cs.umass.edu/~marlin/data.shtml)"
   ]
  },
  {
   "cell_type": "code",
   "execution_count": 2,
   "id": "052391d1-6445-4623-899c-3f9aa311d0f8",
   "metadata": {},
   "outputs": [],
   "source": [
    "data_dir = Path('datasets')\n",
    "data_dir.mkdir(exist_ok=True)"
   ]
  },
  {
   "cell_type": "markdown",
   "id": "651cef30-3296-4ddc-adaa-dc2ddd966120",
   "metadata": {},
   "source": [
    "### Mnist"
   ]
  },
  {
   "cell_type": "code",
   "execution_count": 3,
   "id": "e8ab396f-76c9-46c3-b780-53ae8fdd76c6",
   "metadata": {},
   "outputs": [],
   "source": [
    "mnist_dir = data_dir / 'mnist'\n",
    "mnist_dir.mkdir(exist_ok=True)\n",
    "mnist = torchvision.datasets.MNIST(root=mnist_dir, download=True)"
   ]
  },
  {
   "cell_type": "markdown",
   "id": "45e082c1-2525-445a-a795-fca747cd4619",
   "metadata": {},
   "source": [
    "### Fashionmnist"
   ]
  },
  {
   "cell_type": "code",
   "execution_count": 4,
   "id": "897474af-3dd3-4cdc-8fb2-770cd159a84c",
   "metadata": {},
   "outputs": [],
   "source": [
    "fashionmnist_dir = data_dir / 'fashionmnist'\n",
    "fashionmnist_dir.mkdir(exist_ok=True)\n",
    "fashionmnist = torchvision.datasets.FashionMNIST(root=fashionmnist_dir, download=True)"
   ]
  },
  {
   "cell_type": "markdown",
   "id": "8beb3b98-ba11-4fed-91a9-5869909cadd4",
   "metadata": {},
   "source": [
    "### Omniglot"
   ]
  },
  {
   "cell_type": "code",
   "execution_count": 5,
   "id": "e53f8012-2eb9-4742-adaa-de91b5ba43f6",
   "metadata": {},
   "outputs": [
    {
     "name": "stdout",
     "output_type": "stream",
     "text": [
      "Files already downloaded and verified\n"
     ]
    }
   ],
   "source": [
    "omniglot_dir = data_dir / 'omniglot'\n",
    "omniglot_dir.mkdir(exist_ok=True)\n",
    "omniglot = torchvision.datasets.Omniglot(root=omniglot_dir, download=True)"
   ]
  },
  {
   "cell_type": "markdown",
   "id": "2686201e-1ddf-435a-8fbf-f3a2f6a10531",
   "metadata": {},
   "source": [
    "### partition by class"
   ]
  },
  {
   "cell_type": "code",
   "execution_count": 6,
   "id": "ead8ba69-1997-4cae-acb9-1bde8a1e793d",
   "metadata": {},
   "outputs": [],
   "source": [
    "def filter_by_class(data, labels, class_to_keep: int = 0):\n",
    "    indexer = labels == class_to_keep\n",
    "    filtered_data = data[indexer]\n",
    "    filtered_labels = labels[indexer]\n",
    "    return filtered_data, filtered_labels\n",
    "\n",
    "def partition_by_class(data, labels, classes):\n",
    "    class_partitions = {}\n",
    "    for k in classes:\n",
    "        class_partitions[k] = filter_by_class(data, labels, k)\n",
    "    return class_partitions\n",
    "       "
   ]
  },
  {
   "cell_type": "code",
   "execution_count": 7,
   "id": "fdbc5617-b94b-40ce-911f-770bb88c94f6",
   "metadata": {},
   "outputs": [],
   "source": [
    "mnist_data = mnist.data.numpy()\n",
    "mnist_labels = mnist.targets.numpy()\n",
    "mnist_classes = np.unique(mnist_labels)\n",
    "mnist_partitions = partition_by_class(mnist_data, mnist_labels, mnist_classes)"
   ]
  },
  {
   "cell_type": "code",
   "execution_count": 8,
   "id": "99f5f9fa-229c-41a4-9b6e-36a4aa87afc0",
   "metadata": {},
   "outputs": [],
   "source": [
    "fashionmnist_data = fashionmnist.data.numpy()\n",
    "fashionmnist_labels = fashionmnist.targets.numpy()\n",
    "fashionmnist_classes = np.unique(fashionmnist_labels)\n",
    "fashionmnist_partitions = partition_by_class(fashionmnist_data, fashionmnist_labels, fashionmnist_classes)"
   ]
  },
  {
   "cell_type": "markdown",
   "id": "a727996a-6924-4345-b944-8ed16aac283f",
   "metadata": {},
   "source": [
    "### split data"
   ]
  },
  {
   "cell_type": "code",
   "execution_count": 9,
   "id": "c0a53c0b-e854-4e70-876e-22f5065d4cbe",
   "metadata": {},
   "outputs": [],
   "source": [
    "def get_data_split(data, labels, val_split=0.1, test_split=0.2):\n",
    "    data = np.asarray(data)\n",
    "    labels = np.asarray(labels)\n",
    "    n = data.shape[0]\n",
    "    assert n == labels.shape[0]\n",
    "    index = list(range(n))\n",
    "    random.shuffle(index)\n",
    "    num_test = round(test_split * n)\n",
    "    num_dev = n - num_test\n",
    "    num_val = round(num_dev * val_split)\n",
    "    num_train = num_dev - num_val\n",
    "    train_index = index[:num_train]\n",
    "    val_index = index[num_train:num_train+num_val]\n",
    "    test_index = index[-num_test:]\n",
    "    return {\n",
    "        'train_data': data[train_index],\n",
    "        'train_labels': labels[train_index],\n",
    "        'val_data': data[val_index],\n",
    "        'val_labels': labels[val_index],\n",
    "        'test_data': data[test_index],\n",
    "        'test_labels': labels[test_index],\n",
    "    }"
   ]
  },
  {
   "cell_type": "code",
   "execution_count": 10,
   "id": "2c24afd9-4150-4d6a-8424-61c9aa6a892b",
   "metadata": {},
   "outputs": [],
   "source": [
    "five_data = mnist_partitions[5]\n",
    "five_split = get_data_split(*five_data)"
   ]
  },
  {
   "cell_type": "code",
   "execution_count": 11,
   "id": "78174ebb-8056-4c20-bdd4-8a3531852687",
   "metadata": {},
   "outputs": [],
   "source": [
    "sneaker_data = fashionmnist_partitions[7]\n",
    "sneaker_split = get_data_split(*sneaker_data)"
   ]
  },
  {
   "cell_type": "markdown",
   "id": "81da6843-ea0e-4b7e-b4f0-043d1fd896a9",
   "metadata": {},
   "source": [
    "### dataset class"
   ]
  },
  {
   "cell_type": "code",
   "execution_count": 12,
   "id": "42c8e689-cf52-4d6d-a616-10a07deaf530",
   "metadata": {},
   "outputs": [],
   "source": [
    "class Dataset(torch.utils.data.Dataset):\n",
    "    def __init__(\n",
    "        self, \n",
    "        data: np.ndarray, \n",
    "        labels: np.ndarray, \n",
    "        normalize: bool = True,\n",
    "        padding: None | tuple[int, int] = (32, 32), \n",
    "        transforms: None | list[torchvision.transforms] = [\n",
    "            # torchvision.transforms.Pad((32, 32), fill=0),\n",
    "            torchvision.transforms.ToTensor(),\n",
    "        ],\n",
    "    ):\n",
    "        self.data = data\n",
    "        self.labels = labels\n",
    "        self.normalize = normalize\n",
    "        self.padding = padding\n",
    "        self.transforms = torchvision.transforms.Compose(transforms)\n",
    "\n",
    "    def __len__(self):\n",
    "        return self.data.shape[0] - 1\n",
    "\n",
    "    def __getitem__(self, index):\n",
    "        image_m = self.data[index]\n",
    "        image_f = self.data[index+1]\n",
    "        # label_m = self.labels[index+1]\n",
    "        # label_f = self.labels[index]\n",
    "        if self.transforms:\n",
    "            image_m = self.transforms(image_m)\n",
    "            image_f = self.transforms(image_f)\n",
    "        if self.padding:\n",
    "            image_m = self.pad(image_m)\n",
    "            image_f = self.pad(image_f)\n",
    "            \n",
    "        return torch.cat([image_m, image_f], 0)\n",
    "    \n",
    "    def normalize(self, image):\n",
    "        pass\n",
    "    \n",
    "    def pad(self, image):\n",
    "        # only handles case when pad > size\n",
    "        w, h = image.squeeze().shape\n",
    "        assert self.padding[0] >= w, 'width padding too small'\n",
    "        assert self.padding[1] >= h, 'height padding too small'\n",
    "        w_diff = self.padding[0] - w\n",
    "        h_diff = self.padding[1] - h\n",
    "        w_pad = w_diff // 2\n",
    "        h_pad = h_diff // 2\n",
    "        padding = w_pad, w_diff - w_pad, h_pad, h_diff - h_pad\n",
    "        image = torch.nn.functional.pad(image, padding, 'constant', 0)\n",
    "        return image"
   ]
  },
  {
   "cell_type": "code",
   "execution_count": 13,
   "id": "72f140e9-5a36-4380-bd3e-422f6bf6e3b8",
   "metadata": {},
   "outputs": [
    {
     "data": {
      "text/plain": [
       "<matplotlib.image.AxesImage at 0x7fbe20284040>"
      ]
     },
     "execution_count": 13,
     "metadata": {},
     "output_type": "execute_result"
    },
    {
     "data": {
      "image/png": "[encoded data removed]",
      "text/plain": [
       "<Figure size 432x288 with 2 Axes>"
      ]
     },
     "metadata": {
      "needs_background": "light"
     },
     "output_type": "display_data"
    }
   ],
   "source": [
    "five_train_dataset = Dataset(five_split['train_data'], five_split['train_labels'])\n",
    "five_val_dataset = Dataset(five_split['val_data'], five_split['val_labels'])\n",
    "five_test_dataset = Dataset(five_split['test_data'], five_split['test_labels'])\n",
    "\n",
    "fig, ax = plt.subplots(ncols=2)\n",
    "ax[0].imshow(five_train_dataset[0][0])\n",
    "ax[1].imshow(five_train_dataset[0][1])"
   ]
  },
  {
   "cell_type": "code",
   "execution_count": 14,
   "id": "f6775346-9ab1-4ed6-9fa0-2209d1ee8f10",
   "metadata": {},
   "outputs": [
    {
     "data": {
      "text/plain": [
       "<matplotlib.image.AxesImage at 0x7fbe200fdbb0>"
      ]
     },
     "execution_count": 14,
     "metadata": {},
     "output_type": "execute_result"
    },
    {
     "data": {
      "image/png": "[encoded data removed]",
      "text/plain": [
       "<Figure size 432x288 with 2 Axes>"
      ]
     },
     "metadata": {
      "needs_background": "light"
     },
     "output_type": "display_data"
    }
   ],
   "source": [
    "sneaker_train_dataset = Dataset(sneaker_split['train_data'], sneaker_split['train_labels'])\n",
    "sneaker_val_dataset = Dataset(sneaker_split['val_data'], sneaker_split['val_labels'])\n",
    "sneaker_test_dataset = Dataset(sneaker_split['test_data'], sneaker_split['test_labels'])\n",
    "fig, ax = plt.subplots(ncols=2)\n",
    "ax[0].imshow(sneaker_train_dataset[0][0])\n",
    "ax[1].imshow(sneaker_train_dataset[0][1])"
   ]
  },
  {
   "cell_type": "markdown",
   "id": "4558f66b-c9a2-4358-8fd1-1388d84dd620",
   "metadata": {},
   "source": [
    "### build dataloaders"
   ]
  },
  {
   "cell_type": "code",
   "execution_count": 15,
   "id": "114c5313-9a1e-4fce-87c1-376d7370fb01",
   "metadata": {},
   "outputs": [],
   "source": [
    "def get_dataloader(\n",
    "    dataset: torch.utils.data.Dataset,\n",
    "    batch_size: int=32,\n",
    "    shuffle=True,\n",
    "    pin_memory=True,\n",
    "):\n",
    "    return torch.utils.data.DataLoader(\n",
    "        dataset, \n",
    "        batch_size=batch_size, \n",
    "        shuffle=shuffle, \n",
    "        pin_memory=pin_memory,\n",
    "    )"
   ]
  },
  {
   "cell_type": "code",
   "execution_count": 16,
   "id": "3d376b44-7c44-44b8-9d6a-8314588b96d8",
   "metadata": {},
   "outputs": [],
   "source": [
    "five_train_loader = get_dataloader(five_train_dataset)\n",
    "five_val_loader = get_dataloader(five_val_dataset)\n",
    "five_test_loader = get_dataloader(five_test_dataset)\n",
    "\n",
    "sneaker_train_loader = get_dataloader(sneaker_train_dataset)\n",
    "sneaker_val_loader = get_dataloader(sneaker_val_dataset)\n",
    "sneaker_test_loader = get_dataloader(sneaker_test_dataset)"
   ]
  },
  {
   "cell_type": "code",
   "execution_count": 17,
   "id": "cbefc8de-13de-4ad5-b1eb-3d217b87c179",
   "metadata": {},
   "outputs": [
    {
     "data": {
      "text/plain": [
       "torch.Size([32, 2, 32, 32])"
      ]
     },
     "execution_count": 17,
     "metadata": {},
     "output_type": "execute_result"
    }
   ],
   "source": [
    "next(iter(five_train_loader)).shape"
   ]
  },
  {
   "cell_type": "markdown",
   "id": "6dd96cae-ed0b-47eb-b1fc-20d3f79751c8",
   "metadata": {},
   "source": [
    "## model"
   ]
  },
  {
   "cell_type": "code",
   "execution_count": 18,
   "id": "eed95c51-82f1-4dc8-887b-0bfc42216b60",
   "metadata": {},
   "outputs": [],
   "source": [
    "inshape = (32, 32)\n",
    "infeats = 1\n",
    "unet = vm.networks.Unet(inshape=inshape, infeats=infeats)"
   ]
  },
  {
   "cell_type": "code",
   "execution_count": 19,
   "id": "0937846a-8de4-4a97-a60b-f6fe82566e39",
   "metadata": {},
   "outputs": [
    {
     "data": {
      "text/plain": [
       "torch.Size([32, 16, 32, 32])"
      ]
     },
     "execution_count": 19,
     "metadata": {},
     "output_type": "execute_result"
    }
   ],
   "source": [
    "unet(next(iter(sneaker_train_loader))[:, 0].unsqueeze(1)).shape"
   ]
  },
  {
   "cell_type": "code",
   "execution_count": 20,
   "id": "88c922fe-051e-4166-944d-36426e6723a6",
   "metadata": {},
   "outputs": [],
   "source": [
    "img = next(iter(sneaker_train_loader))"
   ]
  },
  {
   "cell_type": "code",
   "execution_count": 21,
   "id": "cd695cb3-efda-4ea6-881f-3fd8e60d0ad2",
   "metadata": {},
   "outputs": [
    {
     "data": {
      "text/plain": [
       "torch.Size([32, 2, 32, 32])"
      ]
     },
     "execution_count": 21,
     "metadata": {},
     "output_type": "execute_result"
    }
   ],
   "source": [
    "img.shape"
   ]
  },
  {
   "cell_type": "code",
   "execution_count": 23,
   "id": "bd40b4f8-1f96-4f1c-a4b3-87811cdf6c17",
   "metadata": {},
   "outputs": [],
   "source": [
    "conv_layer = torch.nn.Conv2d(16, 2, 3, padding=1)\n",
    "spatial_transformer = vm.layers.SpatialTransformer(inshape)\n",
    "moving_image = img[:, 0].unsqueeze(1)\n",
    "displacement = conv_layer(unet(moving_image))\n",
    "moved_image = spatial_transformer(moving_image, displacement)"
   ]
  },
  {
   "cell_type": "code",
   "execution_count": 24,
   "id": "a9151c98-af6f-42c0-a1bb-a5844f66c56a",
   "metadata": {},
   "outputs": [
    {
     "data": {
      "text/plain": [
       "<matplotlib.image.AxesImage at 0x7fbff77dfa60>"
      ]
     },
     "execution_count": 24,
     "metadata": {},
     "output_type": "execute_result"
    },
    {
     "data": {
      "image/png": "[encoded data removed]",
      "text/plain": [
       "<Figure size 432x288 with 2 Axes>"
      ]
     },
     "metadata": {
      "needs_background": "light"
     },
     "output_type": "display_data"
    }
   ],
   "source": [
    "fig, ax= plt.subplots(ncols=2)\n",
    "ax[0].imshow(img[0][0].detach().numpy())\n",
    "ax[1].imshow(moved_image[0][0].detach().numpy())"
   ]
  },
  {
   "cell_type": "code",
   "execution_count": 25,
   "id": "fa4c32d3-823e-4032-841e-dc64fb048c37",
   "metadata": {},
   "outputs": [],
   "source": [
    "class Model(torch.nn.Module):\n",
    "    def __init__(\n",
    "        self,\n",
    "        image_size: tuple[int, int] | tuple[int, int, int],\n",
    "        input_channels: int = 1,\n",
    "    ):\n",
    "        super().__init__()\n",
    "        self.image_size = image_size\n",
    "        self.input_channels= input_channels\n",
    "        self.ndim = len(image_size)\n",
    "        self.unet = vm.networks.Unet(inshape=image_size, infeats=input_channels)\n",
    "        self.flow = getattr(torch.nn, f'Conv{self.ndim}d')(16, 2, 3, padding=1)\n",
    "        self.spatial_transformer = vm.layers.SpatialTransformer(image_size)\n",
    "    \n",
    "    def forward(self, x: torch.Tensor) -> torch.Tensor:\n",
    "        displacement = self.flow(self.unet(x))\n",
    "        moved_image = self.spatial_transformer(x, displacement)\n",
    "        return moved_image, displacement"
   ]
  },
  {
   "cell_type": "code",
   "execution_count": 40,
   "id": "f556f2ff-a8ce-4fb7-950d-7d1119bb1214",
   "metadata": {},
   "outputs": [],
   "source": [
    "model = Model((32, 32))"
   ]
  },
  {
   "cell_type": "markdown",
   "id": "bf5223f5-a61f-4702-9170-eb7cb195fb63",
   "metadata": {},
   "source": [
    "### loss function"
   ]
  },
  {
   "cell_type": "code",
   "execution_count": 31,
   "id": "9a65a057-491f-48c5-b12d-98a97c931ed1",
   "metadata": {},
   "outputs": [],
   "source": [
    "mse = vm.losses.MSE()\n",
    "grad = vm.losses.Grad('l2')\n",
    "\n",
    "def loss_func(fixed, moving, displacement, weight=0.05):\n",
    "    mse_loss = mse.loss(fixed, moving)\n",
    "    grad_loss = grad.loss(displacement)\n",
    "    return mse_loss + weight*grad_loss"
   ]
  },
  {
   "cell_type": "code",
   "execution_count": 32,
   "id": "ac74130a-4681-45be-a8cd-94213041197d",
   "metadata": {},
   "outputs": [
    {
     "data": {
      "text/plain": [
       "tensor(0.0563, grad_fn=<AddBackward0>)"
      ]
     },
     "execution_count": 32,
     "metadata": {},
     "output_type": "execute_result"
    }
   ],
   "source": [
    "moving_image = img[:, 0].unsqueeze(1)\n",
    "fixed_image = img[:, 1].unsqueeze(1)\n",
    "prediction, displacement = model(moving_image)\n",
    "loss_func(fixed_image, moved_image, displacement)"
   ]
  },
  {
   "cell_type": "markdown",
   "id": "c53a2245-f33d-4604-b619-fc4ef6c562ab",
   "metadata": {},
   "source": [
    "### training"
   ]
  },
  {
   "cell_type": "code",
   "execution_count": 47,
   "id": "947ef735-ecdc-4f4a-98c4-502eb1e2dc98",
   "metadata": {},
   "outputs": [],
   "source": [
    "# model = model.to('cuda')\n",
    "optimizer = torch.optim.Adam(model.parameters(), lr=1e-4)"
   ]
  },
  {
   "cell_type": "code",
   "execution_count": 44,
   "id": "8c0fd5a8-4c67-41cd-a360-3a6ba6e12787",
   "metadata": {},
   "outputs": [],
   "source": [
    "def iterate(\n",
    "    model,\n",
    "    loader,\n",
    "    training: bool = True,\n",
    "):\n",
    "    average_loss = 0.\n",
    "    for i, images in tqdm(enumerate(loader)):\n",
    "        fixed_images = images[:, 0].unsqueeze(1)\n",
    "        moving_images = images[:, 1].unsqueeze(1)\n",
    "        predictions, displacements = model(moving_images)\n",
    "        loss = loss_func(fixed_images, predictions, displacements)\n",
    "        if training:\n",
    "            optimizer.zero_grad()\n",
    "            loss.backward()\n",
    "            optimizer.step()\n",
    "        average_loss += loss.detach().item()\n",
    "    return average_loss / i\n",
    "    \n",
    "\n",
    "def train(\n",
    "    model,\n",
    "    train_loader,\n",
    "    val_loader,\n",
    "    epochs: int = 10,\n",
    "):\n",
    "    epoch_loss = defaultdict(list)\n",
    "    for i in range(epochs):\n",
    "        train_loss = iterate(model, train_loader)\n",
    "        val_loss = iterate(model, val_loader, training=False)\n",
    "        epoch_loss['train'].append(train_loss)\n",
    "        epoch_loss['val'].append(val_loss)\n",
    "        print(f'epoch {i} finished')"
   ]
  },
  {
   "cell_type": "code",
   "execution_count": 45,
   "id": "74f2ca91-6f46-4105-939e-e903aea171e5",
   "metadata": {},
   "outputs": [
    {
     "name": "stderr",
     "output_type": "stream",
     "text": [
      "  0%|                                                                        | 0/10 [00:00<?, ?it/s]\n",
      "0it [00:00, ?it/s]\u001b[A\n",
      "4it [00:00, 34.97it/s]\u001b[A\n",
      "9it [00:00, 40.98it/s]\u001b[A\n",
      "14it [00:00, 42.07it/s]\u001b[A\n",
      "19it [00:00, 43.11it/s]\u001b[A\n",
      "24it [00:00, 43.10it/s]\u001b[A\n",
      "29it [00:00, 43.73it/s]\u001b[A\n",
      "34it [00:00, 42.88it/s]\u001b[A\n",
      "39it [00:00, 43.17it/s]\u001b[A\n",
      "44it [00:01, 43.15it/s]\u001b[A\n",
      "49it [00:01, 43.43it/s]\u001b[A\n",
      "54it [00:01, 43.77it/s]\u001b[A\n",
      "59it [00:01, 43.38it/s]\u001b[A\n",
      "64it [00:01, 40.71it/s]\u001b[A\n",
      "69it [00:01, 40.80it/s]\u001b[A\n",
      "74it [00:01, 40.78it/s]\u001b[A\n",
      "79it [00:01, 41.31it/s]\u001b[A\n",
      "84it [00:01, 41.87it/s]\u001b[A\n",
      "89it [00:02, 42.45it/s]\u001b[A\n",
      "94it [00:02, 42.49it/s]\u001b[A\n",
      "99it [00:02, 42.36it/s]\u001b[A\n",
      "104it [00:02, 41.38it/s]\u001b[A\n",
      "109it [00:02, 42.17it/s]\u001b[A\n",
      "114it [00:02, 42.44it/s]\u001b[A\n",
      "119it [00:02, 42.00it/s]\u001b[A\n",
      "124it [00:02, 42.48it/s]\u001b[A\n",
      "129it [00:03, 41.44it/s]\u001b[A\n",
      "135it [00:03, 42.09it/s]\u001b[A\n",
      "\n",
      "0it [00:00, ?it/s]\u001b[A\n",
      "15it [00:00, 106.62it/s]\u001b[A\n",
      " 10%|██████▍                                                         | 1/10 [00:03<00:30,  3.36s/it]\n",
      "0it [00:00, ?it/s]\u001b[A\n",
      "5it [00:00, 44.41it/s]\u001b[A\n",
      "10it [00:00, 41.55it/s]\u001b[A\n",
      "15it [00:00, 40.53it/s]\u001b[A\n",
      "20it [00:00, 41.54it/s]\u001b[A\n",
      "25it [00:00, 42.65it/s]\u001b[A\n",
      "30it [00:00, 41.44it/s]\u001b[A\n",
      "35it [00:00, 41.58it/s]\u001b[A\n",
      "40it [00:00, 42.29it/s]\u001b[A\n",
      "45it [00:01, 42.13it/s]\u001b[A\n",
      "50it [00:01, 42.75it/s]\u001b[A\n",
      "55it [00:01, 43.08it/s]\u001b[A\n",
      "60it [00:01, 43.47it/s]\u001b[A\n",
      "65it [00:01, 42.16it/s]\u001b[A\n",
      "70it [00:01, 42.57it/s]\u001b[A\n",
      "75it [00:01, 42.27it/s]\u001b[A\n",
      "80it [00:01, 42.35it/s]\u001b[A\n",
      "85it [00:02, 43.13it/s]\u001b[A\n",
      "90it [00:02, 43.85it/s]\u001b[A\n",
      "95it [00:02, 43.79it/s]\u001b[A\n",
      "100it [00:02, 42.81it/s]\u001b[A\n",
      "105it [00:02, 41.46it/s]\u001b[A\n",
      "110it [00:02, 42.04it/s]\u001b[A\n",
      "115it [00:02, 42.44it/s]\u001b[A\n",
      "120it [00:02, 39.27it/s]\u001b[A\n",
      "125it [00:02, 40.81it/s]\u001b[A\n",
      "130it [00:03, 41.32it/s]\u001b[A\n",
      "135it [00:03, 42.06it/s]\u001b[A\n",
      "\n",
      "0it [00:00, ?it/s]\u001b[A\n",
      "15it [00:00, 102.10it/s]\u001b[A\n",
      " 20%|████████████▊                                                   | 2/10 [00:06<00:26,  3.36s/it]\n",
      "0it [00:00, ?it/s]\u001b[A\n",
      "5it [00:00, 44.85it/s]\u001b[A\n",
      "10it [00:00, 44.64it/s]\u001b[A\n",
      "15it [00:00, 42.98it/s]\u001b[A\n",
      "20it [00:00, 43.02it/s]\u001b[A\n",
      "25it [00:00, 42.30it/s]\u001b[A\n",
      "30it [00:00, 42.68it/s]\u001b[A\n",
      "35it [00:00, 43.08it/s]\u001b[A\n",
      "40it [00:00, 43.74it/s]\u001b[A\n",
      "45it [00:01, 44.18it/s]\u001b[A\n",
      "50it [00:01, 40.41it/s]\u001b[A\n",
      "55it [00:01, 40.01it/s]\u001b[A\n",
      "60it [00:01, 40.49it/s]\u001b[A\n",
      "65it [00:01, 41.72it/s]\u001b[A\n",
      "70it [00:01, 42.60it/s]\u001b[A\n",
      "75it [00:01, 43.10it/s]\u001b[A\n",
      "80it [00:01, 43.11it/s]\u001b[A\n",
      "85it [00:01, 43.49it/s]\u001b[A\n",
      "90it [00:02, 43.65it/s]\u001b[A\n",
      "95it [00:02, 44.31it/s]\u001b[A\n",
      "100it [00:02, 44.97it/s]\u001b[A\n",
      "105it [00:02, 44.66it/s]\u001b[A\n",
      "110it [00:02, 43.89it/s]\u001b[A\n",
      "115it [00:02, 43.09it/s]\u001b[A\n",
      "120it [00:02, 43.43it/s]\u001b[A\n",
      "127it [00:02, 42.63it/s]\u001b[A\n",
      " 20%|████████████▊                                                   | 2/10 [00:09<00:38,  4.85s/it]\n"
     ]
    },
    {
     "ename": "KeyboardInterrupt",
     "evalue": "",
     "output_type": "error",
     "traceback": [
      "\u001b[0;31m---------------------------------------------------------------------------\u001b[0m",
      "\u001b[0;31mKeyboardInterrupt\u001b[0m                         Traceback (most recent call last)",
      "\u001b[0;32m/tmp/ipykernel_1298/4045716883.py\u001b[0m in \u001b[0;36m<module>\u001b[0;34m\u001b[0m\n\u001b[0;32m----> 1\u001b[0;31m \u001b[0mepoch_loss\u001b[0m \u001b[0;34m=\u001b[0m \u001b[0mtrain\u001b[0m\u001b[0;34m(\u001b[0m\u001b[0mmodel\u001b[0m\u001b[0;34m,\u001b[0m \u001b[0msneaker_train_loader\u001b[0m\u001b[0;34m,\u001b[0m \u001b[0msneaker_val_loader\u001b[0m\u001b[0;34m)\u001b[0m\u001b[0;34m\u001b[0m\u001b[0;34m\u001b[0m\u001b[0m\n\u001b[0m",
      "\u001b[0;32m/tmp/ipykernel_1298/3027263730.py\u001b[0m in \u001b[0;36mtrain\u001b[0;34m(model, train_loader, val_loader, epochs)\u001b[0m\n\u001b[1;32m     26\u001b[0m     \u001b[0mepoch_loss\u001b[0m \u001b[0;34m=\u001b[0m \u001b[0mdefaultdict\u001b[0m\u001b[0;34m(\u001b[0m\u001b[0mlist\u001b[0m\u001b[0;34m)\u001b[0m\u001b[0;34m\u001b[0m\u001b[0;34m\u001b[0m\u001b[0m\n\u001b[1;32m     27\u001b[0m     \u001b[0;32mfor\u001b[0m \u001b[0mi\u001b[0m \u001b[0;32min\u001b[0m \u001b[0mtqdm\u001b[0m\u001b[0;34m(\u001b[0m\u001b[0mrange\u001b[0m\u001b[0;34m(\u001b[0m\u001b[0mepochs\u001b[0m\u001b[0;34m)\u001b[0m\u001b[0;34m)\u001b[0m\u001b[0;34m:\u001b[0m\u001b[0;34m\u001b[0m\u001b[0;34m\u001b[0m\u001b[0m\n\u001b[0;32m---> 28\u001b[0;31m         \u001b[0mtrain_loss\u001b[0m \u001b[0;34m=\u001b[0m \u001b[0miterate\u001b[0m\u001b[0;34m(\u001b[0m\u001b[0mmodel\u001b[0m\u001b[0;34m,\u001b[0m \u001b[0mtrain_loader\u001b[0m\u001b[0;34m)\u001b[0m\u001b[0;34m\u001b[0m\u001b[0;34m\u001b[0m\u001b[0m\n\u001b[0m\u001b[1;32m     29\u001b[0m         \u001b[0mval_loss\u001b[0m \u001b[0;34m=\u001b[0m \u001b[0miterate\u001b[0m\u001b[0;34m(\u001b[0m\u001b[0mmodel\u001b[0m\u001b[0;34m,\u001b[0m \u001b[0mval_loader\u001b[0m\u001b[0;34m,\u001b[0m \u001b[0mtraining\u001b[0m\u001b[0;34m=\u001b[0m\u001b[0;32mFalse\u001b[0m\u001b[0;34m)\u001b[0m\u001b[0;34m\u001b[0m\u001b[0;34m\u001b[0m\u001b[0m\n\u001b[1;32m     30\u001b[0m         \u001b[0mepoch_loss\u001b[0m\u001b[0;34m[\u001b[0m\u001b[0;34m'train'\u001b[0m\u001b[0;34m]\u001b[0m\u001b[0;34m.\u001b[0m\u001b[0mappend\u001b[0m\u001b[0;34m(\u001b[0m\u001b[0mtrain_loss\u001b[0m\u001b[0;34m)\u001b[0m\u001b[0;34m\u001b[0m\u001b[0;34m\u001b[0m\u001b[0m\n",
      "\u001b[0;32m/tmp/ipykernel_1298/3027263730.py\u001b[0m in \u001b[0;36miterate\u001b[0;34m(model, loader, training)\u001b[0m\n\u001b[1;32m     13\u001b[0m             \u001b[0moptimizer\u001b[0m\u001b[0;34m.\u001b[0m\u001b[0mzero_grad\u001b[0m\u001b[0;34m(\u001b[0m\u001b[0;34m)\u001b[0m\u001b[0;34m\u001b[0m\u001b[0;34m\u001b[0m\u001b[0m\n\u001b[1;32m     14\u001b[0m             \u001b[0mloss\u001b[0m\u001b[0;34m.\u001b[0m\u001b[0mbackward\u001b[0m\u001b[0;34m(\u001b[0m\u001b[0;34m)\u001b[0m\u001b[0;34m\u001b[0m\u001b[0;34m\u001b[0m\u001b[0m\n\u001b[0;32m---> 15\u001b[0;31m             \u001b[0moptimizer\u001b[0m\u001b[0;34m.\u001b[0m\u001b[0mstep\u001b[0m\u001b[0;34m(\u001b[0m\u001b[0;34m)\u001b[0m\u001b[0;34m\u001b[0m\u001b[0;34m\u001b[0m\u001b[0m\n\u001b[0m\u001b[1;32m     16\u001b[0m         \u001b[0maverage_loss\u001b[0m \u001b[0;34m+=\u001b[0m \u001b[0mloss\u001b[0m\u001b[0;34m.\u001b[0m\u001b[0mdetach\u001b[0m\u001b[0;34m(\u001b[0m\u001b[0;34m)\u001b[0m\u001b[0;34m.\u001b[0m\u001b[0mitem\u001b[0m\u001b[0;34m(\u001b[0m\u001b[0;34m)\u001b[0m\u001b[0;34m\u001b[0m\u001b[0;34m\u001b[0m\u001b[0m\n\u001b[1;32m     17\u001b[0m     \u001b[0;32mreturn\u001b[0m \u001b[0maverage_loss\u001b[0m \u001b[0;34m/\u001b[0m \u001b[0mi\u001b[0m\u001b[0;34m\u001b[0m\u001b[0;34m\u001b[0m\u001b[0m\n",
      "\u001b[0;32m/opt/conda/lib/python3.8/site-packages/torch/optim/optimizer.py\u001b[0m in \u001b[0;36mwrapper\u001b[0;34m(*args, **kwargs)\u001b[0m\n\u001b[1;32m     86\u001b[0m                 \u001b[0mprofile_name\u001b[0m \u001b[0;34m=\u001b[0m \u001b[0;34m\"Optimizer.step#{}.step\"\u001b[0m\u001b[0;34m.\u001b[0m\u001b[0mformat\u001b[0m\u001b[0;34m(\u001b[0m\u001b[0mobj\u001b[0m\u001b[0;34m.\u001b[0m\u001b[0m__class__\u001b[0m\u001b[0;34m.\u001b[0m\u001b[0m__name__\u001b[0m\u001b[0;34m)\u001b[0m\u001b[0;34m\u001b[0m\u001b[0;34m\u001b[0m\u001b[0m\n\u001b[1;32m     87\u001b[0m                 \u001b[0;32mwith\u001b[0m \u001b[0mtorch\u001b[0m\u001b[0;34m.\u001b[0m\u001b[0mautograd\u001b[0m\u001b[0;34m.\u001b[0m\u001b[0mprofiler\u001b[0m\u001b[0;34m.\u001b[0m\u001b[0mrecord_function\u001b[0m\u001b[0;34m(\u001b[0m\u001b[0mprofile_name\u001b[0m\u001b[0;34m)\u001b[0m\u001b[0;34m:\u001b[0m\u001b[0;34m\u001b[0m\u001b[0;34m\u001b[0m\u001b[0m\n\u001b[0;32m---> 88\u001b[0;31m                     \u001b[0;32mreturn\u001b[0m \u001b[0mfunc\u001b[0m\u001b[0;34m(\u001b[0m\u001b[0;34m*\u001b[0m\u001b[0margs\u001b[0m\u001b[0;34m,\u001b[0m \u001b[0;34m**\u001b[0m\u001b[0mkwargs\u001b[0m\u001b[0;34m)\u001b[0m\u001b[0;34m\u001b[0m\u001b[0;34m\u001b[0m\u001b[0m\n\u001b[0m\u001b[1;32m     89\u001b[0m             \u001b[0;32mreturn\u001b[0m \u001b[0mwrapper\u001b[0m\u001b[0;34m\u001b[0m\u001b[0;34m\u001b[0m\u001b[0m\n\u001b[1;32m     90\u001b[0m \u001b[0;34m\u001b[0m\u001b[0m\n",
      "\u001b[0;32m/opt/conda/lib/python3.8/site-packages/torch/autograd/grad_mode.py\u001b[0m in \u001b[0;36mdecorate_context\u001b[0;34m(*args, **kwargs)\u001b[0m\n\u001b[1;32m     25\u001b[0m         \u001b[0;32mdef\u001b[0m \u001b[0mdecorate_context\u001b[0m\u001b[0;34m(\u001b[0m\u001b[0;34m*\u001b[0m\u001b[0margs\u001b[0m\u001b[0;34m,\u001b[0m \u001b[0;34m**\u001b[0m\u001b[0mkwargs\u001b[0m\u001b[0;34m)\u001b[0m\u001b[0;34m:\u001b[0m\u001b[0;34m\u001b[0m\u001b[0;34m\u001b[0m\u001b[0m\n\u001b[1;32m     26\u001b[0m             \u001b[0;32mwith\u001b[0m \u001b[0mself\u001b[0m\u001b[0;34m.\u001b[0m\u001b[0mclone\u001b[0m\u001b[0;34m(\u001b[0m\u001b[0;34m)\u001b[0m\u001b[0;34m:\u001b[0m\u001b[0;34m\u001b[0m\u001b[0;34m\u001b[0m\u001b[0m\n\u001b[0;32m---> 27\u001b[0;31m                 \u001b[0;32mreturn\u001b[0m \u001b[0mfunc\u001b[0m\u001b[0;34m(\u001b[0m\u001b[0;34m*\u001b[0m\u001b[0margs\u001b[0m\u001b[0;34m,\u001b[0m \u001b[0;34m**\u001b[0m\u001b[0mkwargs\u001b[0m\u001b[0;34m)\u001b[0m\u001b[0;34m\u001b[0m\u001b[0;34m\u001b[0m\u001b[0m\n\u001b[0m\u001b[1;32m     28\u001b[0m         \u001b[0;32mreturn\u001b[0m \u001b[0mcast\u001b[0m\u001b[0;34m(\u001b[0m\u001b[0mF\u001b[0m\u001b[0;34m,\u001b[0m \u001b[0mdecorate_context\u001b[0m\u001b[0;34m)\u001b[0m\u001b[0;34m\u001b[0m\u001b[0;34m\u001b[0m\u001b[0m\n\u001b[1;32m     29\u001b[0m \u001b[0;34m\u001b[0m\u001b[0m\n",
      "\u001b[0;32m/opt/conda/lib/python3.8/site-packages/torch/optim/adam.py\u001b[0m in \u001b[0;36mstep\u001b[0;34m(self, closure)\u001b[0m\n\u001b[1;32m    139\u001b[0m                     \u001b[0mstate_steps\u001b[0m\u001b[0;34m.\u001b[0m\u001b[0mappend\u001b[0m\u001b[0;34m(\u001b[0m\u001b[0mstate\u001b[0m\u001b[0;34m[\u001b[0m\u001b[0;34m'step'\u001b[0m\u001b[0;34m]\u001b[0m\u001b[0;34m)\u001b[0m\u001b[0;34m\u001b[0m\u001b[0;34m\u001b[0m\u001b[0m\n\u001b[1;32m    140\u001b[0m \u001b[0;34m\u001b[0m\u001b[0m\n\u001b[0;32m--> 141\u001b[0;31m             F.adam(params_with_grad,\n\u001b[0m\u001b[1;32m    142\u001b[0m                    \u001b[0mgrads\u001b[0m\u001b[0;34m,\u001b[0m\u001b[0;34m\u001b[0m\u001b[0;34m\u001b[0m\u001b[0m\n\u001b[1;32m    143\u001b[0m                    \u001b[0mexp_avgs\u001b[0m\u001b[0;34m,\u001b[0m\u001b[0;34m\u001b[0m\u001b[0;34m\u001b[0m\u001b[0m\n",
      "\u001b[0;32m/opt/conda/lib/python3.8/site-packages/torch/optim/_functional.py\u001b[0m in \u001b[0;36madam\u001b[0;34m(params, grads, exp_avgs, exp_avg_sqs, max_exp_avg_sqs, state_steps, amsgrad, beta1, beta2, lr, weight_decay, eps, maximize)\u001b[0m\n\u001b[1;32m     96\u001b[0m         \u001b[0;31m# Decay the first and second moment running average coefficient\u001b[0m\u001b[0;34m\u001b[0m\u001b[0;34m\u001b[0m\u001b[0;34m\u001b[0m\u001b[0m\n\u001b[1;32m     97\u001b[0m         \u001b[0mexp_avg\u001b[0m\u001b[0;34m.\u001b[0m\u001b[0mmul_\u001b[0m\u001b[0;34m(\u001b[0m\u001b[0mbeta1\u001b[0m\u001b[0;34m)\u001b[0m\u001b[0;34m.\u001b[0m\u001b[0madd_\u001b[0m\u001b[0;34m(\u001b[0m\u001b[0mgrad\u001b[0m\u001b[0;34m,\u001b[0m \u001b[0malpha\u001b[0m\u001b[0;34m=\u001b[0m\u001b[0;36m1\u001b[0m \u001b[0;34m-\u001b[0m \u001b[0mbeta1\u001b[0m\u001b[0;34m)\u001b[0m\u001b[0;34m\u001b[0m\u001b[0;34m\u001b[0m\u001b[0m\n\u001b[0;32m---> 98\u001b[0;31m         \u001b[0mexp_avg_sq\u001b[0m\u001b[0;34m.\u001b[0m\u001b[0mmul_\u001b[0m\u001b[0;34m(\u001b[0m\u001b[0mbeta2\u001b[0m\u001b[0;34m)\u001b[0m\u001b[0;34m.\u001b[0m\u001b[0maddcmul_\u001b[0m\u001b[0;34m(\u001b[0m\u001b[0mgrad\u001b[0m\u001b[0;34m,\u001b[0m \u001b[0mgrad\u001b[0m\u001b[0;34m.\u001b[0m\u001b[0mconj\u001b[0m\u001b[0;34m(\u001b[0m\u001b[0;34m)\u001b[0m\u001b[0;34m,\u001b[0m \u001b[0mvalue\u001b[0m\u001b[0;34m=\u001b[0m\u001b[0;36m1\u001b[0m \u001b[0;34m-\u001b[0m \u001b[0mbeta2\u001b[0m\u001b[0;34m)\u001b[0m\u001b[0;34m\u001b[0m\u001b[0;34m\u001b[0m\u001b[0m\n\u001b[0m\u001b[1;32m     99\u001b[0m         \u001b[0;32mif\u001b[0m \u001b[0mamsgrad\u001b[0m\u001b[0;34m:\u001b[0m\u001b[0;34m\u001b[0m\u001b[0;34m\u001b[0m\u001b[0m\n\u001b[1;32m    100\u001b[0m             \u001b[0;31m# Maintains the maximum of all 2nd moment running avg. till now\u001b[0m\u001b[0;34m\u001b[0m\u001b[0;34m\u001b[0m\u001b[0;34m\u001b[0m\u001b[0m\n",
      "\u001b[0;31mKeyboardInterrupt\u001b[0m: "
     ]
    }
   ],
   "source": [
    "epoch_loss = train(model, sneaker_train_loader, sneaker_val_loader)"
   ]
  },
  {
   "cell_type": "code",
   "execution_count": null,
   "id": "0f8047c4-08ff-41b9-8323-0ae8156825c4",
   "metadata": {},
   "outputs": [],
   "source": []
  },
  {
   "cell_type": "code",
   "execution_count": null,
   "id": "5989ab53-3e3e-4768-86b2-b9124a1d50bb",
   "metadata": {},
   "outputs": [],
   "source": []
  }
 ],
 "metadata": {
  "kernelspec": {
   "display_name": "Python 3 (ipykernel)",
   "language": "python",
   "name": "python3"
  },
  "language_info": {
   "codemirror_mode": {
    "name": "ipython",
    "version": 3
   },
   "file_extension": ".py",
   "mimetype": "text/x-python",
   "name": "python",
   "nbconvert_exporter": "python",
   "pygments_lexer": "ipython3",
   "version": "3.8.12"
  }
 },
 "nbformat": 4,
 "nbformat_minor": 5
}
